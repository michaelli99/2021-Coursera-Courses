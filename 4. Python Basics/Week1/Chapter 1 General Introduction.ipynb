{
 "cells": [
  {
   "cell_type": "markdown",
   "metadata": {},
   "source": [
    "## Chapter 1 General Introduction"
   ]
  },
  {
   "cell_type": "markdown",
   "metadata": {},
   "source": [
    "### 1.2 Algotirhms"
   ]
  },
  {
   "cell_type": "markdown",
   "metadata": {},
   "source": [
    "An <b>algorithm</b> is a step by step list of instructions that if followed exactly will solve the problem under consideration."
   ]
  },
  {
   "cell_type": "markdown",
   "metadata": {},
   "source": [
    "### 1.3 The Python Programming Language"
   ]
  },
  {
   "cell_type": "markdown",
   "metadata": {},
   "source": [
    "Python is an example of a <b>high-level language</b>; other high-level languages you might have heard of are C++, PHP, and Java."
   ]
  },
  {
   "cell_type": "markdown",
   "metadata": {},
   "source": [
    "There are also <b>low-level languages</b>, sometimes referred to as machine languages or assembly languages. Loosely speaking, computers can only execute programs written in low-level languages. Thus, programs written in a high-level language have to be processed before they can run."
   ]
  },
  {
   "cell_type": "markdown",
   "metadata": {},
   "source": [
    "Advantages of high-level languages:\n",
    "1. Programs written in a high-level language take less time to write, they are shorter and easier to read, and they are more likely to be correct.\n",
    "2. High-level languages are portable, meaning that they can run on different kinds of computers with few or no modifications. Low-level programs can run on only one kind of computer and have to be rewritten to run on another."
   ]
  },
  {
   "cell_type": "markdown",
   "metadata": {},
   "source": [
    "Two kinds of programs process high-level languages into low-level languages: <b>interpreters</b> and <b>compilers</b>. <br>\n",
    "\n",
    "An <b>interpreter</b> reads a high-level program and executes it, meaning that it does what the program says. It processes the program a little at a time, alternately reading lines and performing computations. <br>\n",
    "![title](p1_1.png)\n",
    "A <b>compiler</b> reads the program and translates it completely before the program starts running. In this case, the high-level program is called the source code, and the translated program is called the object code or the executable. Once a program is compiled, you can execute it repeatedly without further translation. <br>\n",
    "![title](p1_2.png)"
   ]
  },
  {
   "cell_type": "markdown",
   "metadata": {},
   "source": [
    "### 1.5 More about Programs"
   ]
  },
  {
   "cell_type": "markdown",
   "metadata": {},
   "source": [
    "A <b>program</b> is a sequence of instructions that specifies how to perform a computation. The computation might be something as complex as rendering an html page in a web browser or encoding a video and streaming it across the network. It can also be a symbolic computation, such as searching for and replacing text in a document or (strangely enough) compiling a program."
   ]
  },
  {
   "cell_type": "markdown",
   "metadata": {},
   "source": [
    "#### Control structure 1"
   ]
  },
  {
   "cell_type": "code",
   "execution_count": 2,
   "metadata": {},
   "outputs": [
    {
     "name": "stdout",
     "output_type": "stream",
     "text": [
      "Please write down an item to add to your grocery list. When you are done writing the list simply type: doneapple\n",
      "apple\n",
      "Please write down an item to add to your grocery list. When you are done writing the list simply type: donepear\n",
      "pear\n",
      "Please write down an item to add to your grocery list. When you are done writing the list simply type: donepeach\n",
      "peach\n",
      "Please write down an item to add to your grocery list. When you are done writing the list simply type: donedone\n",
      "done\n"
     ]
    }
   ],
   "source": [
    "grocery_item = \"\"\n",
    "while grocery_item != \"done\":\n",
    "    grocery_item = input(\"Please write down an item to add to your grocery list. When you are done writing the list simply type: done\")\n",
    "    print(grocery_item)"
   ]
  },
  {
   "cell_type": "markdown",
   "metadata": {},
   "source": [
    "#### Control Structure 2"
   ]
  },
  {
   "cell_type": "code",
   "execution_count": 3,
   "metadata": {},
   "outputs": [
    {
     "name": "stdout",
     "output_type": "stream",
     "text": [
      "Please write down an item to add to your grocery list. When you are done writing the list then simply type: donepear\n",
      "adding the item to the list\n",
      "Please write down an item to add to your grocery list. When you are done writing the list then simply type: donepeach\n",
      "adding the item to the list\n",
      "Please write down an item to add to your grocery list. When you are done writing the list then simply type: doneapple\n",
      "adding the item to the list\n",
      "Please write down an item to add to your grocery list. When you are done writing the list then simply type: donedone\n",
      "Here is our grocery list:\n",
      "['pear', 'peach', 'apple']\n"
     ]
    }
   ],
   "source": [
    "grocery_item = \"\"\n",
    "grocery_list = []\n",
    "while grocery_item != \"done\":\n",
    "    grocery_item = input(\"Please write down an item to add to your grocery list. When you are done writing the list then simply type: done\")\n",
    "    if grocery_item == 'done':\n",
    "        continue\n",
    "    else:\n",
    "        print(\"adding the item to the list\")\n",
    "        grocery_list.append(grocery_item)\n",
    "print(\"Here is our grocery list:\")\n",
    "print(grocery_list)"
   ]
  },
  {
   "cell_type": "markdown",
   "metadata": {},
   "source": [
    "### 1.6 Formal and Natural Languages"
   ]
  },
  {
   "cell_type": "markdown",
   "metadata": {},
   "source": [
    "<b>Natural languages</b> are the languages that people speak, such as English, Spanish, Korean, and Mandarin Chinese. They were not designed by people (although people try to impose some order on them); they evolved naturally.<br>\n",
    "\n",
    "<b>Formal languages</b> are languages that are designed by people for specific applications. For example, the notation that mathematicians use is a formal language that is particularly good at denoting relationships among numbers and symbols. Programming languages are formal languages that have been designed to express computations."
   ]
  },
  {
   "cell_type": "markdown",
   "metadata": {},
   "source": [
    "<b>Syntax rules</b> come in two flavors, pertaining to tokens and structure. <b>Tokens</b> are the basic elements of the language, such as words, numbers, and chemical elements. The second type of syntax rule pertains to the <b>structure</b> of a statement— that is, the way the tokens are arranged."
   ]
  },
  {
   "cell_type": "markdown",
   "metadata": {},
   "source": [
    "### 1.10 Comments"
   ]
  },
  {
   "cell_type": "markdown",
   "metadata": {},
   "source": [
    "A <b>comment</b> in a computer program is text that is intended only for the human reader - it is completely ignored by the interpreter. In Python, the # token starts a comment. Comments are written for the people who are reading your code to know, in natural language, what the program is doing. It can make life much easier."
   ]
  }
 ],
 "metadata": {
  "kernelspec": {
   "display_name": "Python 3",
   "language": "python",
   "name": "python3"
  },
  "language_info": {
   "codemirror_mode": {
    "name": "ipython",
    "version": 3
   },
   "file_extension": ".py",
   "mimetype": "text/x-python",
   "name": "python",
   "nbconvert_exporter": "python",
   "pygments_lexer": "ipython3",
   "version": "3.7.6"
  }
 },
 "nbformat": 4,
 "nbformat_minor": 4
}
