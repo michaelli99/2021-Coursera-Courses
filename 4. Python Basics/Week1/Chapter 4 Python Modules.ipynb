{
 "cells": [
  {
   "cell_type": "markdown",
   "metadata": {},
   "source": [
    "## Chapter 4 Python Modules"
   ]
  },
  {
   "cell_type": "markdown",
   "metadata": {},
   "source": [
    "### 4.2. Modules"
   ]
  },
  {
   "cell_type": "markdown",
   "metadata": {},
   "source": [
    "A **module** is a file containing Python definitions and statements intended for use in other Python programs. There are many Python modules that come with Python as part of the **standard library**. Providing additional functionality through modules allows you to only use the functionality you need when you need it, and it keeps your code cleaner.\n",
    "\n",
    "Functions imported as part of a module live in their own **namespace**. A **namespace** is simply a space within which all names are distinct from each other. The same name can be reused in different namespaces but two objects can’t have the same name within a single namespace.\n",
    "\n",
    "The [Python Documentation](https://docs.python.org/3.6/) site for Python version 3.6 is an extremely useful reference for all aspects of Python. "
   ]
  },
  {
   "cell_type": "markdown",
   "metadata": {},
   "source": [
    "#### 4.2.1. Importing Modules"
   ]
  },
  {
   "cell_type": "markdown",
   "metadata": {},
   "source": [
    "In order to use Python modules, you have to import them into a Python program. That happens with an `import` statement: the word `import`, and then the *name* of the module. The name is case-sensitive. Roughly translated to English, an import statement says **“there’s some code in another file; please make its functions and variables available in this file.”** More technically, an import statement causes all the code in another file to be executed. Any variables that are bound during that execution (including functions that are defined) may then be referred in some way (to be discussed) in the current file.\n",
    "\n",
    "By convention, all `import` commands are put at the very top of your file. They can be put elsewhere, but that can lead to some confusions, so it’s best to follow the convention."
   ]
  },
  {
   "cell_type": "markdown",
   "metadata": {},
   "source": [
    "#### 4.2.2. Syntax for Importing Modules and Functionality"
   ]
  },
  {
   "cell_type": "markdown",
   "metadata": {},
   "source": [
    "1. The most common is `import morecode`. That imports everything in morecode.py. To invoke a function **f1** that is defined in **morecode.py**, you would write `morecode.f1()`. Note that you have to explicitly mention morecode again, to specify that you want the **f1** function from the morecode namespace. If you just write f1(), python will look for an f1 that was defined in the current file, rather than in morecode.py.\n",
    "\n",
    "2. You can also give the imported module an alias (a different name, just for when you use it in your program). For example, after executing `import morecode as mc`, you would invoke f1 as `mc.f1()`. You have now given the morecode module the alias mc. Programmers often do this to make code easier to type.\n",
    "\n",
    "3. A third possibility for importing occurs when you only want to import SOME of the functionality from a module, and you want to make those objects be part of the current module’s namespace. For example, you could write `from morecode import f1`. Then you could invoke f1 without referencing morecode again: `f1()`."
   ]
  },
  {
   "cell_type": "markdown",
   "metadata": {},
   "source": [
    "### 4.3. The random module"
   ]
  },
  {
   "cell_type": "markdown",
   "metadata": {},
   "source": [
    "We often want to use **random numbers** in programs. Here are a few typical uses:\n",
    "\n",
    "- To play a game of chance where the computer needs to throw some dice, pick a number, or flip a coin,\n",
    "\n",
    "- To shuffle a deck of playing cards randomly,\n",
    "\n",
    "- To randomly allow a new enemy spaceship to appear and shoot at you,\n",
    "\n",
    "- To simulate possible rainfall when we make a computerized model for estimating the environmental impact of building a dam,\n",
    "\n",
    "- For encrypting your banking session on the Internet."
   ]
  },
  {
   "cell_type": "code",
   "execution_count": 1,
   "metadata": {},
   "outputs": [
    {
     "name": "stdout",
     "output_type": "stream",
     "text": [
      "0.7076520147597207\n",
      "4\n"
     ]
    }
   ],
   "source": [
    "import random\n",
    "\n",
    "prob = random.random()\n",
    "print(prob)\n",
    "\n",
    "diceThrow = random.randrange(1,7)       # return an int, one of 1,2,3,4,5,6\n",
    "print(diceThrow)"
   ]
  },
  {
   "cell_type": "markdown",
   "metadata": {},
   "source": [
    "It is important to note that random number generators are based on a **deterministic** algorithm — repeatable and predictable. So they’re called **pseudo-random** generators — they are not genuinely random. They start with a seed value. Each time you ask for another random number, you’ll get one based on the current seed attribute, and the state of the seed (which is one of the attributes of the generator) will be updated. The good news is that each time you run your program, the seed value is likely to be different meaning that even though the random numbers are being created algorithmically, you will likely get random behavior each time you execute."
   ]
  },
  {
   "cell_type": "code",
   "execution_count": null,
   "metadata": {},
   "outputs": [],
   "source": []
  }
 ],
 "metadata": {
  "kernelspec": {
   "display_name": "Python 3",
   "language": "python",
   "name": "python3"
  },
  "language_info": {
   "codemirror_mode": {
    "name": "ipython",
    "version": 3
   },
   "file_extension": ".py",
   "mimetype": "text/x-python",
   "name": "python",
   "nbconvert_exporter": "python",
   "pygments_lexer": "ipython3",
   "version": "3.7.6"
  }
 },
 "nbformat": 4,
 "nbformat_minor": 4
}
