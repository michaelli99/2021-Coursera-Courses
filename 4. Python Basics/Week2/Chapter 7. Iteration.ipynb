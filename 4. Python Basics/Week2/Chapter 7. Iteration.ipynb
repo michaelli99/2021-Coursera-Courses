{
 "cells": [
  {
   "cell_type": "markdown",
   "metadata": {},
   "source": [
    "# 7. Iteration"
   ]
  },
  {
   "cell_type": "markdown",
   "metadata": {},
   "source": [
    "## 7.3. Flow of Execution of the for Loop\n",
    "As a program executes, the interpreter always keeps track of which statement is about to be executed. We call this the **control flow**, or the **flow of execution** of the program. When humans execute programs, they often use their finger to point to each statement in turn. So you could think of control flow as “Python’s moving finger”."
   ]
  },
  {
   "cell_type": "markdown",
   "metadata": {},
   "source": [
    "How does python know what statements are contained in the loop body? They are indented to the same degree from the loop header."
   ]
  },
  {
   "cell_type": "markdown",
   "metadata": {},
   "source": [
    "## 7.6. The Accumulator Pattern"
   ]
  },
  {
   "cell_type": "code",
   "execution_count": 1,
   "metadata": {},
   "outputs": [
    {
     "name": "stdout",
     "output_type": "stream",
     "text": [
      "range(5): \n",
      "0\n",
      "1\n",
      "2\n",
      "3\n",
      "4\n",
      "range(0,5): \n",
      "0\n",
      "1\n",
      "2\n",
      "3\n",
      "4\n",
      "[0, 1, 2, 3, 4]\n",
      "[0, 1, 2, 3, 4]\n",
      "range(0, 5)\n"
     ]
    }
   ],
   "source": [
    "print(\"range(5): \")\n",
    "for i in range(5):\n",
    "    print(i)\n",
    "\n",
    "print(\"range(0,5): \")\n",
    "for i in range(0, 5):\n",
    "    print(i)\n",
    "\n",
    "# Notice the casting of `range` to the `list`\n",
    "print(list(range(5)))\n",
    "print(list(range(0,5)))\n",
    "\n",
    "# Note: `range` function is already casted as `list` in the textbook\n",
    "print(range(5))"
   ]
  },
  {
   "cell_type": "markdown",
   "metadata": {},
   "source": [
    "## 7.8. Nested Iteration: Image Processing\n",
    "\n",
    "A **digital image** is a finite collection of small, discrete **picture elements** called **pixels**. These pixels are organized in a two-dimensional grid. Each pixel represents the smallest amount of picture information that is available. Sometimes these pixels appear as small “dots”."
   ]
  },
  {
   "cell_type": "markdown",
   "metadata": {},
   "source": [
    "<img src=\"p7_1.png\" width=\"500\"/>"
   ]
  },
  {
   "cell_type": "markdown",
   "metadata": {},
   "source": [
    "<img src=\"p7_2.png\" width=\"500\"/>"
   ]
  },
  {
   "cell_type": "markdown",
   "metadata": {},
   "source": [
    "#### Other pixel manipulation ####\n",
    "\n",
    "There are a number of different image processing algorithms that follow the same pattern as shown above. Namely, take the original pixel, extract the red, green, and blue intensities, and then create a new pixel from them. The new pixel is inserted into an empty image at the same location as the original.\n",
    "\n",
    "For example, you can create a **gray scale pixel** by averaging the red, green and blue intensities and then using that value for all intensities.\n",
    "\n",
    "From the gray scale you can create **black white** by setting a threshold and selecting to either insert a white pixel for a black pixel into the empty image.\n",
    "\n",
    "You can also do some complex arithmetic and create interesting effects, such as **Sepia Tone**"
   ]
  },
  {
   "cell_type": "markdown",
   "metadata": {},
   "source": [
    "## 7.11. The Gory Details: Iterables"
   ]
  },
  {
   "cell_type": "markdown",
   "metadata": {},
   "source": [
    "After the word `in`, there can be any Python expression that evaluates to a sequence. You have already seen iteration over strings and lists."
   ]
  },
  {
   "cell_type": "markdown",
   "metadata": {},
   "source": [
    "For loop basic format:\n",
    "\n",
    "for `variables` in `iterables`:"
   ]
  },
  {
   "cell_type": "code",
   "execution_count": 15,
   "metadata": {},
   "outputs": [
    {
     "name": "stdout",
     "output_type": "stream",
     "text": [
      "37\n"
     ]
    }
   ],
   "source": [
    "addition_str = \"2+5+10+20\"\n",
    "\n",
    "addition_lst = addition_str.split(\"+\")\n",
    "\n",
    "sum_val = 0\n",
    "\n",
    "for i in addition_lst:\n",
    "    sum_val += int(i)\n",
    "\n",
    "print(sum_val)"
   ]
  }
 ],
 "metadata": {
  "kernelspec": {
   "display_name": "Python 3",
   "language": "python",
   "name": "python3"
  },
  "language_info": {
   "codemirror_mode": {
    "name": "ipython",
    "version": 3
   },
   "file_extension": ".py",
   "mimetype": "text/x-python",
   "name": "python",
   "nbconvert_exporter": "python",
   "pygments_lexer": "ipython3",
   "version": "3.7.6"
  }
 },
 "nbformat": 4,
 "nbformat_minor": 4
}
